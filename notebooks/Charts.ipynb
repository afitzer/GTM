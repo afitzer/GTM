{
 "cells": [
  {
   "cell_type": "code",
   "execution_count": null,
   "metadata": {},
   "outputs": [],
   "source": [
    "import plotly.express as px\n",
    "import pandas as pd\n",
    "import sqlite3"
   ]
  },
  {
   "cell_type": "code",
   "execution_count": null,
   "metadata": {},
   "outputs": [],
   "source": [
    "conn = sqlite3.connect('C:/Users/alexp/Documents/GTM/db.sqlite3')"
   ]
  },
  {
   "cell_type": "code",
   "execution_count": null,
   "metadata": {},
   "outputs": [],
   "source": [
    "# query conn\n",
    "flights = \"SELECT name, cost FROM earnings_flight\"\n",
    "hotels = \"SELECT name, cost FROM earnings_hotel\"\n",
    "events = \"SELECT name, cost FROM earnings_event\"\n",
    "flight_df = pd.read_sql_query(flights, conn)\n",
    "hotels_df = pd.read_sql_query(hotels, conn)\n",
    "events_df = pd.read_sql_query(events, conn)"
   ]
  },
  {
   "cell_type": "code",
   "execution_count": null,
   "metadata": {},
   "outputs": [],
   "source": [
    "conn.close()"
   ]
  },
  {
   "cell_type": "code",
   "execution_count": null,
   "metadata": {},
   "outputs": [],
   "source": [
    "flight_df['type'] = 'flight'\n",
    "hotels_df['type'] = 'hotel'\n",
    "events_df['type'] = 'event'"
   ]
  },
  {
   "cell_type": "code",
   "execution_count": null,
   "metadata": {},
   "outputs": [],
   "source": [
    "# concat the dataframes\n",
    "df = pd.concat([flight_df, hotels_df, events_df])"
   ]
  },
  {
   "cell_type": "code",
   "execution_count": null,
   "metadata": {},
   "outputs": [],
   "source": [
    "df"
   ]
  },
  {
   "cell_type": "code",
   "execution_count": null,
   "metadata": {},
   "outputs": [],
   "source": [
    "fig = px.bar(df, x='cost', y='name', color='type', height=600, width=1000, template=\"simple_white\", \n",
    "        color_discrete_sequence=px.colors.qualitative.G10,\n",
    "        title=\"Costs by Trip\",\n",
    "        labels=dict(\n",
    "                     name=\"Trip Name\", cost=\"Trip Cost (US$)\"))"
   ]
  },
  {
   "cell_type": "code",
   "execution_count": null,
   "metadata": {},
   "outputs": [],
   "source": [
    "fig.update_layout(font_family=\"Rockwell\",\n",
    "                  legend=dict(orientation=\"h\", title=\"\", y=1.1, x=1, xanchor=\"right\", yanchor=\"bottom\"))\n",
    "\n",
    "fig.update_xaxes(tickprefix=\"$\")\n",
    "fig.show()"
   ]
  },
  {
   "cell_type": "code",
   "execution_count": null,
   "metadata": {},
   "outputs": [],
   "source": [
    "fig.write_html(\"C:/Users/alexp/Documents/GTM/earnings/templates/earnings/chart.html\")"
   ]
  }
 ],
 "metadata": {
  "kernelspec": {
   "display_name": ".venv",
   "language": "python",
   "name": "python3"
  },
  "language_info": {
   "codemirror_mode": {
    "name": "ipython",
    "version": 3
   },
   "file_extension": ".py",
   "mimetype": "text/x-python",
   "name": "python",
   "nbconvert_exporter": "python",
   "pygments_lexer": "ipython3",
   "version": "3.11.3"
  },
  "orig_nbformat": 4
 },
 "nbformat": 4,
 "nbformat_minor": 2
}
